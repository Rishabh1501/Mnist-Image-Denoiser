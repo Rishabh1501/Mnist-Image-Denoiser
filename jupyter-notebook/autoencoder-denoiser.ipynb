{
 "cells": [
  {
   "cell_type": "markdown",
   "id": "4bc1965f",
   "metadata": {},
   "source": [
    "### Building the AutoEncoder"
   ]
  },
  {
   "cell_type": "code",
   "execution_count": 1,
   "id": "005ee05e",
   "metadata": {},
   "outputs": [],
   "source": [
    "#importing all the necessary Libraries\n",
    "from tensorflow.keras.layers import BatchNormalization\n",
    "from tensorflow.keras.layers import Conv2D\n",
    "from tensorflow.keras.layers import Conv2DTranspose\n",
    "from tensorflow.keras.layers import LeakyReLU\n",
    "from tensorflow.keras.layers import Activation\n",
    "from tensorflow.keras.layers import Flatten\n",
    "from tensorflow.keras.layers import Dense\n",
    "from tensorflow.keras.layers import Reshape\n",
    "from tensorflow.keras.layers import Input\n",
    "from tensorflow.keras.models import Model\n",
    "from tensorflow.keras import backend as K\n",
    "import numpy as np"
   ]
  },
  {
   "cell_type": "code",
   "execution_count": 10,
   "id": "a3efc6b7",
   "metadata": {},
   "outputs": [],
   "source": [
    "#configuration of the AutoEncoder\n",
    "input_shape = (28, 28, 1)\n",
    "chan_dim = -1\n",
    "filters=(32, 64)\n",
    "latent_dim=16\n",
    "depth=1"
   ]
  },
  {
   "cell_type": "markdown",
   "id": "fde172ef",
   "metadata": {},
   "source": [
    "#### Creating the Encoder"
   ]
  },
  {
   "cell_type": "code",
   "execution_count": 3,
   "id": "43440949",
   "metadata": {},
   "outputs": [],
   "source": [
    "# Define the input to the encoder\n",
    "inputs = Input(shape=input_shape)\n",
    "x = inputs\n",
    "# Loop over the number of filters\n",
    "for f in filters:\n",
    "    # Apply a CONV => RELU => BN operation\n",
    "    x = Conv2D(f, (3, 3), strides=2, padding=\"same\")(x)\n",
    "    x = LeakyReLU(alpha=0.2)(x)\n",
    "    x = BatchNormalization(axis=chan_dim)(x)"
   ]
  },
  {
   "cell_type": "code",
   "execution_count": 6,
   "id": "d3f1c9d8",
   "metadata": {},
   "outputs": [],
   "source": [
    "# Flatten the network and then construct the latent vector\n",
    "x = Flatten()(x)\n",
    "latent = Dense(latent_dim)(x)\n",
    "# Build the encoder model\n",
    "encoder = Model(inputs, latent, name=\"encoder\")"
   ]
  },
  {
   "cell_type": "code",
   "execution_count": 7,
   "id": "13e6162b",
   "metadata": {},
   "outputs": [
    {
     "name": "stdout",
     "output_type": "stream",
     "text": [
      "Model: \"encoder\"\n",
      "_________________________________________________________________\n",
      "Layer (type)                 Output Shape              Param #   \n",
      "=================================================================\n",
      "input_1 (InputLayer)         [(None, 28, 28, 1)]       0         \n",
      "_________________________________________________________________\n",
      "conv2d (Conv2D)              (None, 14, 14, 32)        320       \n",
      "_________________________________________________________________\n",
      "leaky_re_lu (LeakyReLU)      (None, 14, 14, 32)        0         \n",
      "_________________________________________________________________\n",
      "batch_normalization (BatchNo (None, 14, 14, 32)        128       \n",
      "_________________________________________________________________\n",
      "conv2d_1 (Conv2D)            (None, 7, 7, 64)          18496     \n",
      "_________________________________________________________________\n",
      "leaky_re_lu_1 (LeakyReLU)    (None, 7, 7, 64)          0         \n",
      "_________________________________________________________________\n",
      "batch_normalization_1 (Batch (None, 7, 7, 64)          256       \n",
      "_________________________________________________________________\n",
      "flatten (Flatten)            (None, 3136)              0         \n",
      "_________________________________________________________________\n",
      "dense (Dense)                (None, 16)                50192     \n",
      "=================================================================\n",
      "Total params: 69,392\n",
      "Trainable params: 69,200\n",
      "Non-trainable params: 192\n",
      "_________________________________________________________________\n"
     ]
    }
   ],
   "source": [
    "encoder.summary()"
   ]
  },
  {
   "cell_type": "markdown",
   "id": "c1aa62df",
   "metadata": {},
   "source": [
    "#### Creating the Decoder"
   ]
  },
  {
   "cell_type": "code",
   "execution_count": 11,
   "id": "25517cb0",
   "metadata": {},
   "outputs": [],
   "source": [
    "# Start the building to the decoder model which will accept the output of the encoder as its inputs\n",
    "latent_inputs = Input(shape=(latent_dim,))\n",
    "x = Dense(np.prod(volume_size[1:]))(latent_inputs)\n",
    "x = Reshape((volume_size[1], volume_size[2], volume_size[3]))(x)\n",
    "# Loop over the number of filters again, but this time in reverse order\n",
    "for f in filters[::-1]:\n",
    "    # Apply a CONV_TRANSPOSE => RELU => BN operation\n",
    "    x = Conv2DTranspose(f, (3, 3), strides=2, padding=\"same\")(x)\n",
    "    x = LeakyReLU(alpha=0.2)(x)\n",
    "    x = BatchNormalization(axis=chan_dim)(x)\n",
    "# Apply a single CONV_TRANSPOSE layer used to recover the original depth of the image\n",
    "x = Conv2DTranspose(depth, (3, 3), padding=\"same\")(x)\n",
    "outputs = Activation(\"sigmoid\")(x)\n",
    "# Build the decoder model\n",
    "decoder = Model(latent_inputs, outputs, name=\"decoder\")"
   ]
  },
  {
   "cell_type": "code",
   "execution_count": null,
   "id": "216e5f27",
   "metadata": {},
   "outputs": [],
   "source": [
    "decoder.summary()"
   ]
  },
  {
   "cell_type": "markdown",
   "id": "7dfe53c7",
   "metadata": {},
   "source": [
    "#### The autoencoder is the encoder + decoder"
   ]
  },
  {
   "cell_type": "code",
   "execution_count": 12,
   "id": "bb678130",
   "metadata": {},
   "outputs": [
    {
     "name": "stdout",
     "output_type": "stream",
     "text": [
      "Model: \"autoencoder\"\n",
      "_________________________________________________________________\n",
      "Layer (type)                 Output Shape              Param #   \n",
      "=================================================================\n",
      "input_1 (InputLayer)         [(None, 28, 28, 1)]       0         \n",
      "_________________________________________________________________\n",
      "encoder (Functional)         (None, 16)                69392     \n",
      "_________________________________________________________________\n",
      "decoder (Functional)         (None, 28, 28, 1)         109377    \n",
      "=================================================================\n",
      "Total params: 178,769\n",
      "Trainable params: 178,385\n",
      "Non-trainable params: 384\n",
      "_________________________________________________________________\n"
     ]
    }
   ],
   "source": [
    "autoencoder = Model(inputs, decoder(encoder(inputs)), name=\"autoencoder\")\n",
    "autoencoder.summary()"
   ]
  },
  {
   "cell_type": "markdown",
   "id": "5efbc6d8",
   "metadata": {},
   "source": [
    "### Creating Image Denoiser by training Autoencoder created above"
   ]
  },
  {
   "cell_type": "code",
   "execution_count": 13,
   "id": "44b93c93",
   "metadata": {},
   "outputs": [],
   "source": [
    "#importing necessary Libraries\n",
    "from tensorflow.keras.optimizers import Adam\n",
    "from tensorflow.keras.datasets import mnist\n",
    "import matplotlib.pyplot as plt\n",
    "import numpy as np\n",
    "import argparse\n",
    "import cv2"
   ]
  },
  {
   "cell_type": "code",
   "execution_count": 14,
   "id": "522147dd",
   "metadata": {},
   "outputs": [
    {
     "name": "stdout",
     "output_type": "stream",
     "text": [
      "[INFO] loading MNIST dataset...\n"
     ]
    }
   ],
   "source": [
    "# initialize the number of epochs to train for and batch size\n",
    "EPOCHS = 25\n",
    "BS = 32\n",
    "# load the MNIST dataset\n",
    "print(\"[INFO] loading MNIST dataset...\")\n",
    "((trainX, _), (testX, _)) = mnist.load_data()\n",
    "# add a channel dimension to every image in the dataset, then scale\n",
    "# the pixel intensities to the range [0, 1]\n",
    "trainX = np.expand_dims(trainX, axis=-1)\n",
    "testX = np.expand_dims(testX, axis=-1)\n",
    "trainX = trainX.astype(\"float32\") / 255.0\n",
    "testX = testX.astype(\"float32\") / 255.0"
   ]
  },
  {
   "cell_type": "code",
   "execution_count": 16,
   "id": "d7e537bc",
   "metadata": {},
   "outputs": [],
   "source": [
    "# sample noise from a random normal distribution centered at 0.5 (since\n",
    "# our images lie in the range [0, 1]) and a standard deviation of 0.5\n",
    "trainNoise = np.random.normal(loc=0.5, scale=0.5, size=trainX.shape)\n",
    "testNoise = np.random.normal(loc=0.5, scale=0.5, size=testX.shape)\n",
    "trainXNoisy = np.clip(trainX + trainNoise, 0, 1)\n",
    "testXNoisy = np.clip(testX + testNoise, 0, 1)"
   ]
  },
  {
   "cell_type": "markdown",
   "id": "976f9b97",
   "metadata": {},
   "source": [
    "#### Training the AutoEncoder"
   ]
  },
  {
   "cell_type": "code",
   "execution_count": 17,
   "id": "5dbf4cae",
   "metadata": {},
   "outputs": [
    {
     "name": "stdout",
     "output_type": "stream",
     "text": [
      "[INFO] building autoencoder...\n"
     ]
    },
    {
     "name": "stderr",
     "output_type": "stream",
     "text": [
      "D:\\Programming\\Internships\\Internship-Edlox\\autoencoder-anomaly-detection\\venv\\lib\\site-packages\\keras\\optimizer_v2\\optimizer_v2.py:356: UserWarning: The `lr` argument is deprecated, use `learning_rate` instead.\n",
      "  \"The `lr` argument is deprecated, use `learning_rate` instead.\")\n"
     ]
    },
    {
     "name": "stdout",
     "output_type": "stream",
     "text": [
      "Epoch 1/25\n",
      "1875/1875 [==============================] - 81s 42ms/step - loss: 0.0283 - val_loss: 0.0196\n",
      "Epoch 2/25\n",
      "1875/1875 [==============================] - 79s 42ms/step - loss: 0.0188 - val_loss: 0.0182\n",
      "Epoch 3/25\n",
      "1875/1875 [==============================] - 79s 42ms/step - loss: 0.0178 - val_loss: 0.0174\n",
      "Epoch 4/25\n",
      "1875/1875 [==============================] - 78s 41ms/step - loss: 0.0173 - val_loss: 0.0168\n",
      "Epoch 5/25\n",
      "1875/1875 [==============================] - 77s 41ms/step - loss: 0.0168 - val_loss: 0.0172\n",
      "Epoch 6/25\n",
      "1875/1875 [==============================] - 78s 42ms/step - loss: 0.0165 - val_loss: 0.0171\n",
      "Epoch 7/25\n",
      "1875/1875 [==============================] - 78s 41ms/step - loss: 0.0163 - val_loss: 0.0168\n",
      "Epoch 8/25\n",
      "1875/1875 [==============================] - 80s 43ms/step - loss: 0.0161 - val_loss: 0.0163\n",
      "Epoch 9/25\n",
      "1875/1875 [==============================] - 77s 41ms/step - loss: 0.0159 - val_loss: 0.0165\n",
      "Epoch 10/25\n",
      "1875/1875 [==============================] - 78s 42ms/step - loss: 0.0157 - val_loss: 0.0165\n",
      "Epoch 11/25\n",
      "1875/1875 [==============================] - 80s 43ms/step - loss: 0.0156 - val_loss: 0.0164\n",
      "Epoch 12/25\n",
      "1875/1875 [==============================] - 80s 43ms/step - loss: 0.0155 - val_loss: 0.0162\n",
      "Epoch 13/25\n",
      "1875/1875 [==============================] - 79s 42ms/step - loss: 0.0154 - val_loss: 0.0158\n",
      "Epoch 14/25\n",
      "1875/1875 [==============================] - 79s 42ms/step - loss: 0.0153 - val_loss: 0.0166\n",
      "Epoch 15/25\n",
      "1875/1875 [==============================] - 80s 43ms/step - loss: 0.0152 - val_loss: 0.0160\n",
      "Epoch 16/25\n",
      "1875/1875 [==============================] - 78s 42ms/step - loss: 0.0151 - val_loss: 0.0166\n",
      "Epoch 17/25\n",
      "1875/1875 [==============================] - 78s 41ms/step - loss: 0.0150 - val_loss: 0.0156\n",
      "Epoch 18/25\n",
      "1875/1875 [==============================] - 78s 42ms/step - loss: 0.0149 - val_loss: 0.0158\n",
      "Epoch 19/25\n",
      "1875/1875 [==============================] - 78s 42ms/step - loss: 0.0149 - val_loss: 0.0161\n",
      "Epoch 20/25\n",
      "1875/1875 [==============================] - 79s 42ms/step - loss: 0.0148 - val_loss: 0.0157\n",
      "Epoch 21/25\n",
      "1875/1875 [==============================] - 78s 42ms/step - loss: 0.0148 - val_loss: 0.0156\n",
      "Epoch 22/25\n",
      "1875/1875 [==============================] - 79s 42ms/step - loss: 0.0147 - val_loss: 0.0158\n",
      "Epoch 23/25\n",
      "1875/1875 [==============================] - 78s 42ms/step - loss: 0.0147 - val_loss: 0.0155\n",
      "Epoch 24/25\n",
      "1875/1875 [==============================] - 79s 42ms/step - loss: 0.0146 - val_loss: 0.0155\n",
      "Epoch 25/25\n",
      "1875/1875 [==============================] - 79s 42ms/step - loss: 0.0146 - val_loss: 0.0157\n"
     ]
    }
   ],
   "source": [
    "print(\"[INFO] building autoencoder...\")\n",
    "opt = Adam(learning_rate=1e-3)\n",
    "autoencoder.compile(loss=\"mse\", optimizer=opt)\n",
    "# train the convolutional autoencoder\n",
    "H = autoencoder.fit(\n",
    "    trainXNoisy, trainX,\n",
    "    validation_data=(testXNoisy, testX),\n",
    "    epochs=EPOCHS,\n",
    "    batch_size=BS)"
   ]
  },
  {
   "cell_type": "code",
   "execution_count": 18,
   "id": "92cc6b6e",
   "metadata": {},
   "outputs": [
    {
     "data": {
      "image/png": "[encoded data removed]",
      "text/plain": [
       "<Figure size 432x288 with 1 Axes>"
      ]
     },
     "metadata": {},
     "output_type": "display_data"
    }
   ],
   "source": [
    "# construct a plot that plots and saves the training history\n",
    "N = np.arange(0, EPOCHS)\n",
    "plt.style.use(\"ggplot\")\n",
    "plt.figure()\n",
    "plt.plot(N, H.history[\"loss\"], label=\"train_loss\")\n",
    "plt.plot(N, H.history[\"val_loss\"], label=\"val_loss\")\n",
    "plt.title(\"Training Loss and Accuracy\")\n",
    "plt.xlabel(\"Epoch #\")\n",
    "plt.ylabel(\"Loss/Accuracy\")\n",
    "plt.legend(loc=\"lower left\")\n",
    "plt.savefig(\"plot.png\") #save the image"
   ]
  },
  {
   "cell_type": "code",
   "execution_count": 20,
   "id": "6f7d23c2",
   "metadata": {},
   "outputs": [],
   "source": [
    "#saving the model\n",
    "autoencoder.save(\"autoencoder.h5\", save_format=\"h5\")"
   ]
  },
  {
   "cell_type": "code",
   "execution_count": 21,
   "id": "ed037a38",
   "metadata": {},
   "outputs": [],
   "source": [
    "#load the model\n",
    "import tensorflow as tf\n",
    "model = tf.keras.models.load_model(\"autoencoder.h5\")"
   ]
  },
  {
   "cell_type": "code",
   "execution_count": 128,
   "id": "1da9797f",
   "metadata": {},
   "outputs": [
    {
     "data": {
      "text/plain": [
       "(-0.5, 27.5, 27.5, -0.5)"
      ]
     },
     "execution_count": 128,
     "metadata": {},
     "output_type": "execute_result"
    },
    {
     "data": {
      "image/png": "[encoded data removed]",
      "text/plain": [
       "<Figure size 432x288 with 1 Axes>"
      ]
     },
     "metadata": {},
     "output_type": "display_data"
    }
   ],
   "source": [
    "plt.imshow((testXNoisy[1]*255).astype(\"uint8\"))\n",
    "plt.axis('off')\n",
    "# plt.savefig(\"test.png\", bbox_inches='tight',transparent=True)"
   ]
  },
  {
   "cell_type": "code",
   "execution_count": 134,
   "id": "bb1ebee8",
   "metadata": {},
   "outputs": [
    {
     "name": "stdout",
     "output_type": "stream",
     "text": [
      "[INFO] making predictions...\n"
     ]
    },
    {
     "data": {
      "text/plain": [
       "True"
      ]
     },
     "execution_count": 134,
     "metadata": {},
     "output_type": "execute_result"
    }
   ],
   "source": [
    "# use the convolutional autoencoder to make predictions on the\n",
    "# testing images, then initialize our list of output images\n",
    "print(\"[INFO] making predictions...\")\n",
    "decoded = autoencoder.predict(testXNoisy)\n",
    "outputs = None\n",
    "# loop over our number of output samples\n",
    "for i in range(0, 8):\n",
    "    # grab the original image and reconstructed image\n",
    "    original = (testXNoisy[i] * 255).astype(\"uint8\")\n",
    "    recon = (decoded[i] * 255).astype(\"uint8\")\n",
    "    # stack the original and reconstructed image side-by-side\n",
    "    output = np.hstack([original, recon])\n",
    "    # if the outputs array is empty, initialize it as the current\n",
    "    # side-by-side image display\n",
    "    if outputs is None:\n",
    "        outputs = output\n",
    "    # otherwise, vertically stack the outputs\n",
    "    else:\n",
    "        outputs = np.vstack([outputs, output])\n",
    "# save the outputs image to disk\n",
    "cv2.imwrite(\"prediction.png\", outputs)"
   ]
  },
  {
   "cell_type": "code",
   "execution_count": null,
   "id": "0ab93591",
   "metadata": {},
   "outputs": [],
   "source": []
  }
 ],
 "metadata": {
  "kernelspec": {
   "display_name": "Python 3 (ipykernel)",
   "language": "python",
   "name": "python3"
  },
  "language_info": {
   "codemirror_mode": {
    "name": "ipython",
    "version": 3
   },
   "file_extension": ".py",
   "mimetype": "text/x-python",
   "name": "python",
   "nbconvert_exporter": "python",
   "pygments_lexer": "ipython3",
   "version": "3.7.9"
  }
 },
 "nbformat": 4,
 "nbformat_minor": 5
}
